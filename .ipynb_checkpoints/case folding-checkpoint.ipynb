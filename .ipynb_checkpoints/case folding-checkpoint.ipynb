{
 "cells": [
  {
   "cell_type": "code",
   "execution_count": 1,
   "metadata": {},
   "outputs": [],
   "source": [
    "import json\n",
    "import re\n",
    "import string"
   ]
  },
  {
   "cell_type": "code",
   "execution_count": 2,
   "metadata": {},
   "outputs": [],
   "source": [
    "tweet = open(\"rawdata.json\",\"r\")\n",
    "tweet_pre = open(\"dataset.json\", \"w\")"
   ]
  },
  {
   "cell_type": "code",
   "execution_count": 3,
   "metadata": {},
   "outputs": [],
   "source": [
    "kalimat = tweet.read()"
   ]
  },
  {
   "cell_type": "code",
   "execution_count": 4,
   "metadata": {},
   "outputs": [
    {
     "name": "stdout",
     "output_type": "stream",
     "text": [
      "Merubah tweet menjadi huruf kecil sukses bos!\n"
     ]
    }
   ],
   "source": [
    "lower_case = kalimat.lower()\n",
    "print(\"Merubah tweet menjadi huruf kecil sukses\")"
   ]
  },
  {
   "cell_type": "code",
   "execution_count": 5,
   "metadata": {},
   "outputs": [
    {
     "name": "stdout",
     "output_type": "stream",
     "text": [
      "Menghapus url sukses bos!\n"
     ]
    }
   ],
   "source": [
    "url_removal = re.sub(r'\\w+:\\/{2}[\\d\\w-]+(\\.[\\d\\w-]+)*(?:(?:\\/[^\\s/]*))*', '', lower_case)\n",
    "print(\"Menghapus url sukses bos!\")"
   ]
  },
  {
   "cell_type": "code",
   "execution_count": 6,
   "metadata": {},
   "outputs": [
    {
     "name": "stdout",
     "output_type": "stream",
     "text": [
      "Menghapus angka pada tweet sukses bos!\n"
     ]
    }
   ],
   "source": [
    "hapus_angka = re.sub(r\"\\d+\", \"\" , url_removal)\n",
    "print(\"Menghapus angka pada tweet sukses\")"
   ]
  },
  {
   "cell_type": "code",
   "execution_count": 7,
   "metadata": {},
   "outputs": [
    {
     "name": "stdout",
     "output_type": "stream",
     "text": [
      "Menghapus tanda baca sukses bos!\n"
     ]
    }
   ],
   "source": [
    "hapus_tandabaca = hapus_angka.translate(str.maketrans(\"\",\"\",string.punctuation))\n",
    "print(\"Menghapus tanda baca sukses\")"
   ]
  },
  {
   "cell_type": "code",
   "execution_count": 8,
   "metadata": {},
   "outputs": [
    {
     "name": "stdout",
     "output_type": "stream",
     "text": [
      "Menghapus karakter kosong sukses bos!\n"
     ]
    }
   ],
   "source": [
    "hapus_karakterkosong = hapus_tandabaca.strip()\n",
    "print(\"Menghapus karakter kosong sukses\")"
   ]
  },
  {
   "cell_type": "code",
   "execution_count": 9,
   "metadata": {},
   "outputs": [],
   "source": [
    "tweet_pre.writelines(hapus_karakterkosong)\n",
    "tweet.close()\n",
    "tweet_pre.close()\n",
    "print(\"Sukses 100%\")"
   ]
  }
 ],
 "metadata": {
  "kernelspec": {
   "display_name": "Python 3",
   "language": "python",
   "name": "python3"
  },
  "language_info": {
   "codemirror_mode": {
    "name": "ipython",
    "version": 3
   },
   "file_extension": ".py",
   "mimetype": "text/x-python",
   "name": "python",
   "nbconvert_exporter": "python",
   "pygments_lexer": "ipython3",
   "version": "3.8.1"
  }
 },
 "nbformat": 4,
 "nbformat_minor": 4
}
